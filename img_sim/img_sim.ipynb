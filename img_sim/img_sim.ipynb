{
 "cells": [
  {
   "cell_type": "code",
   "execution_count": 1,
   "metadata": {},
   "outputs": [
    {
     "name": "stderr",
     "output_type": "stream",
     "text": [
      "/usr/local/lib/python3.10/site-packages/numba/core/decorators.py:262: NumbaDeprecationWarning: numba.generated_jit is deprecated. Please see the documentation at: https://numba.readthedocs.io/en/stable/reference/deprecation.html#deprecation-of-generated-jit for more information and advice on a suitable replacement.\n",
      "  warnings.warn(msg, NumbaDeprecationWarning)\n"
     ]
    }
   ],
   "source": [
    "import lenstronomy\n",
    "import deeplenstronomy\n",
    "import deeplenstronomy.deeplenstronomy as dl\n",
    "import numpy as np"
   ]
  },
  {
   "cell_type": "code",
   "execution_count": 2,
   "metadata": {},
   "outputs": [
    {
     "name": "stdout",
     "output_type": "stream",
     "text": [
      "Versão do lenstronomy:\n",
      "1.11.2\n",
      "\n",
      "Versão do deeplenstronomy:\n",
      "0.0.2.0\n"
     ]
    }
   ],
   "source": [
    "print('Versão do lenstronomy:')\n",
    "print(lenstronomy.__version__)\n",
    "\n",
    "print('\\nVersão do deeplenstronomy:')\n",
    "print(deeplenstronomy.__version__)\n",
    "\n",
    "\n",
    "config_file = 'configuration_file.yaml'"
   ]
  },
  {
   "cell_type": "code",
   "execution_count": 3,
   "metadata": {},
   "outputs": [
    {
     "name": "stdout",
     "output_type": "stream",
     "text": [
      "\n",
      "Gerando imagens\n",
      "Entering main organization loop\n",
      "Organizing CONFIGURATION_1\n",
      "Generating images for CONFIGURATION_1\n",
      "\tProgress: 100.0 %  ---  Elapsed Time: 0 H 18 M 54 S         \n"
     ]
    }
   ],
   "source": [
    "print('\\nGerando imagens')\n",
    "\n",
    "dataset = dl.make_dataset(config_file, \n",
    "                          verbose=True, \n",
    "                          store_in_memory=False, \n",
    "                          store_sample=False,\n",
    "                          save_to_disk=True,\n",
    "                          )\n",
    "                          #survey = 'delve') # survey='delve' não é necessário porque já está no config\n",
    "\n"
   ]
  }
 ],
 "metadata": {
  "kernelspec": {
   "display_name": "Python 3 (ipykernel)",
   "language": "python",
   "name": "python3"
  },
  "language_info": {
   "codemirror_mode": {
    "name": "ipython",
    "version": 3
   },
   "file_extension": ".py",
   "mimetype": "text/x-python",
   "name": "python",
   "nbconvert_exporter": "python",
   "pygments_lexer": "ipython3",
   "version": "3.10.10"
  }
 },
 "nbformat": 4,
 "nbformat_minor": 4
}
